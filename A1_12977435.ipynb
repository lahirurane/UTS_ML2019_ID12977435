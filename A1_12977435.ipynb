{
  "nbformat": 4,
  "nbformat_minor": 0,
  "metadata": {
    "kernelspec": {
      "display_name": "Python 3",
      "language": "python",
      "name": "python3"
    },
    "language_info": {
      "codemirror_mode": {
        "name": "ipython",
        "version": 3
      },
      "file_extension": ".py",
      "mimetype": "text/x-python",
      "name": "python",
      "nbconvert_exporter": "python",
      "pygments_lexer": "ipython3",
      "version": "3.5.4"
    },
    "toc": {
      "base_numbering": 1,
      "nav_menu": {},
      "number_sections": true,
      "sideBar": true,
      "skip_h1_title": false,
      "title_cell": "Table of Contents",
      "title_sidebar": "Contents",
      "toc_cell": false,
      "toc_position": {},
      "toc_section_display": true,
      "toc_window_display": false
    },
    "colab": {
      "name": "A1_ReportDraft.ipynb",
      "version": "0.3.2",
      "provenance": []
    }
  },
  "cells": [
    {
      "cell_type": "markdown",
      "metadata": {
        "id": "AI3anHHuaQcG",
        "colab_type": "text"
      },
      "source": [
        "# Assignment 1 : 32513 Machine Learning"
      ]
    },
    {
      "cell_type": "markdown",
      "metadata": {
        "id": "lyyyFJJzUXK0",
        "colab_type": "text"
      },
      "source": [
        "Student No : 12977435"
      ]
    },
    {
      "cell_type": "markdown",
      "metadata": {
        "id": "5OGyNCBfaQcJ",
        "colab_type": "text"
      },
      "source": [
        "# Review Report on Support-Vector Networks"
      ]
    },
    {
      "cell_type": "markdown",
      "metadata": {
        "id": "57K33fp6aQcJ",
        "colab_type": "text"
      },
      "source": [
        "## Introduction"
      ]
    },
    {
      "cell_type": "markdown",
      "metadata": {
        "id": "OC-4Y2M0EcVx",
        "colab_type": "text"
      },
      "source": [
        "This report is a review on the paper titled \"Support-Vector Networks\" which is written by Corinna Cortes and Vladimir Vapnik published in 1995. First, the content of the article is discussed, followed by a critique on innovation, technical quality, Application x-factor and the presentation."
      ]
    },
    {
      "cell_type": "markdown",
      "metadata": {
        "id": "OKTG6RBFaQcK",
        "colab_type": "text"
      },
      "source": [
        "## Content"
      ]
    },
    {
      "cell_type": "markdown",
      "metadata": {
        "id": "SlTvusPkaQcL",
        "colab_type": "text"
      },
      "source": [
        "In this paper, the author introduces a new machine learning algorithm called support vector network. In Support Vector Network, it handles the non-linear input vectors into high dimensional feature space by using unique properties. A linear surface is constructed to generalise the data to make decisions. Support-vector network designed for two-group classification problems. The previous implementation of support vector network implemented with a limitation where only with linearly separable data can be used. In this article, the author provides a solution to use support vector networks with non-linear data and convert the data where high generalisation abilities are delivered. Therefore, making high accuracy predictions for classification problems.\n",
        "The author first describes the existing approaches for pattern recognition such as neural networks and backpropagation algorithm for neural networks and that support vector networks in as powerful as neural networks. Next, the author describes the two issues that are faced — these two main issues considered as one conceptual issue and the other as a technical issue. The conceptual issue is in identifying the correct hyperplane to generalised the data set. The author identifies the appropriate solutions in getting the optimal hyperplane for two classes calculating the maximal margin between the two them. The technical issue is regarding the computational power for a higher number of dimensional spaces. A comparison between two vector space, before making a non-linear conversion has been identified as a solution for the issue more than creating the non-linear transformation at the beginning. Moreover, the author suggests allowing errors in the training set to allow optimal separation.\n",
        "As for the evaluation of the suggested method, the author has used two sets of datasets. One is a small dataset with 7000 datasets and a larger dataset with 60,000 datasets. Then the dataset was compared with human performance, decision trees, and neural networks."
      ]
    },
    {
      "cell_type": "markdown",
      "metadata": {
        "id": "5kuW-p6FaQcL",
        "colab_type": "text"
      },
      "source": [
        "## Innovation"
      ]
    },
    {
      "cell_type": "markdown",
      "metadata": {
        "id": "MxsH1iRWaQcM",
        "colab_type": "text"
      },
      "source": [
        "The article was written in 1996, which can consider the era of the beginning of machine learning. Although, the author describes previous mathematical models and functions that are introduced, such as pattern recognition and neural networks. The author mentions that a support vector network method was implemented previously but with a limitation. That is, the support vector network can only use by the linearly separable data set. Therefore, the author introduces the new methodology where the model can use non-linear data set. The input data is mapped to a high dimensional space with the non-linear data and then converted to a linear surface to make the decisions. In achieving this, the author suggests using the dot product formula.\n",
        "Moreover, the author integrates a formula to calculate the maximal margin between two classes. In calculating the margin, the author suggests to train the dataset chunk by chunk and select the dataset that can be separated. As a result, the error data is tolerated by the model. Finally, the author suggests an algorithm to soften the margin making the number of errors to a minimum. With these introductions, it can be considered that this research work introduced a unique method for pattern recognition integrating with algorithms that have been proposed as well.\n",
        "Furthermore, the author suggests that there can be various functions added according to the dataset to soften the margin. The author provides a Radial basis function implementation as an example as well. The author compares the results with two decision trees and with two neural networks. Overall, the research paper can be considered as a novel approach."
      ]
    },
    {
      "cell_type": "markdown",
      "metadata": {
        "id": "LJ7Jx5OlaQcM",
        "colab_type": "text"
      },
      "source": [
        "## Technical quality"
      ]
    },
    {
      "cell_type": "markdown",
      "metadata": {
        "id": "_3pwBXiUaQcN",
        "colab_type": "text"
      },
      "source": [
        "The article has been written clearly and can be understood easily. However, for a person with a percentage of lower domain knowledge, the report is quite complex to understand as it contains technical terms and formulas. However, with the very well description of the mathematical methods, the article is communicated well to the reader. The author has justified the usage of the formula with step by step guide and explanation regarding the constraints. Therefore, researches with excellent domain knowledge can efficiently replicate the suggested approach.\n",
        "Moreover, the author has given an example for the margin soften using Radial basis and provides assistance for the future researches for newer methods. Hence, the technical aspect of the literature can be considered as high. In terms of testing the proposed algorithm, the author has used two different data sets. One with a medium-size data set and a large-size data set. These datasets used in various models such as neural networks with two layers, special architecture 5-layer network, decision tree with CART, decision tree with c4.5 and human performance. According to the era of this research paper, it can consider that the author has compared the accuracy with classifiers that are available at that time. Even though the author has mentioned about the backpropagation neural networks, the model has not analysed with the suggested model. That can consider as a drawback of this research paper. In overall, the article has high standards, technically comprehensive paper. The citation count (35303) provides a proof as well."
      ]
    },
    {
      "cell_type": "markdown",
      "metadata": {
        "id": "trWhhVm9aQcN",
        "colab_type": "text"
      },
      "source": [
        "## Application and X-factor"
      ]
    },
    {
      "cell_type": "markdown",
      "metadata": {
        "id": "NKg4-AKlaQcO",
        "colab_type": "text"
      },
      "source": [
        "TODO: Application domain? What are the further improvements What's missing\n",
        "I've found this paper interesting in many aspects. In terms of the structure in the article, it is written well with a flow and advanced.\n",
        "Moreover, the academic style of writing and description of formulas are well arranged. Therefore, the information communicated to the reader efficiently. Another aspect would be the analysis and evaluation of the model. The author has used several pattern recognition techniques to compare rather than comparing with one model. Moreover, the author evaluates the model with two datasets as well. This shows the proper way of evaluating a model. Another aspect of the paper is the technical discovery of support vector networks — the innovation of the model revolutionised machine learning. Support vector machine (SVM) model is used vastly in machine learning up to date. Therefore, I consider this research paper has significant importance."
      ]
    },
    {
      "cell_type": "markdown",
      "metadata": {
        "id": "ZyU3a2FOaQcP",
        "colab_type": "text"
      },
      "source": [
        "## Presentation"
      ]
    },
    {
      "cell_type": "markdown",
      "metadata": {
        "id": "ujlZAMkPaQcP",
        "colab_type": "text"
      },
      "source": [
        "The overall structure of the paper can consider as high standard with a clear introduction for the problem and the suggested method. The article has sections in sequential order starting from the introduction followed by the problem and the solution. Additionally, the solutions have separated into each sub-section. Also, the formulas and figures labelled with proper formatting. However, the method could structure better for visual appearance. Moreover, the paper includes figures to provide more clarity to the reader with a thorough description. Such as the feed-forward perceptron, a 2-dimensional graph, classification structure and example graph of dot product result. Also, the author has provided well-defined results to the reader on the experimental data and the detailed conclusion."
      ]
    },
    {
      "cell_type": "markdown",
      "metadata": {
        "id": "QTlTi8yGaQcQ",
        "colab_type": "text"
      },
      "source": [
        "## References\n",
        " \n",
        "\n",
        "*   Cortes, C. & Vapnik, V. 1995, 'Support vector networks'. Machine Learning, vol. 20, pp. 273–297.\n",
        "\n",
        "\n",
        "\n",
        "[1]:https://link.springer.com/article/10.1007/BF00994018"
      ]
    },
    {
      "cell_type": "markdown",
      "metadata": {
        "id": "_UgTCU6fHgNS",
        "colab_type": "text"
      },
      "source": [
        "###Link"
      ]
    },
    {
      "cell_type": "markdown",
      "metadata": {
        "id": "Skm27dwgbAzw",
        "colab_type": "text"
      },
      "source": [
        "Github URL : [here][1]\n",
        "\n",
        "[1]:https://github.com/lahirurane/UTS_ML2019_ID12977435/blob/master/A1_12977435.ipynb"
      ]
    },
    {
      "cell_type": "markdown",
      "metadata": {
        "id": "g-RWfnmVMjMd",
        "colab_type": "text"
      },
      "source": [
        "---"
      ]
    },
    {
      "cell_type": "markdown",
      "metadata": {
        "id": "AMT5wnNUM6kV",
        "colab_type": "text"
      },
      "source": [
        "##Experiment Area"
      ]
    },
    {
      "cell_type": "code",
      "metadata": {
        "id": "jOknmnFmNgAq",
        "colab_type": "code",
        "colab": {}
      },
      "source": [
        "#from udacityplots import *\n",
        "import matplotlib\n",
        "matplotlib.use('agg')\n",
        "\n",
        "import matplotlib.pyplot as plt\n",
        "import pylab as pl\n",
        "import numpy as np\n",
        "from sklearn import svm\n",
        "from sklearn.svm import SVC\n",
        "import sys\n",
        "\n",
        "import matplotlib.pyplot as plt\n",
        "import copy\n",
        "import numpy as np\n",
        "import pylab as pl"
      ],
      "execution_count": 0,
      "outputs": []
    },
    {
      "cell_type": "code",
      "metadata": {
        "id": "YCbiapc7NHpW",
        "colab_type": "code",
        "colab": {}
      },
      "source": [
        "\n",
        "\n",
        "#import numpy as np\n",
        "#import matplotlib.pyplot as plt\n",
        "#plt.ioff()\n",
        "\n",
        "def prettyPicture(clf, X_test, y_test):\n",
        "    x_min = 0.0; x_max = 1.0\n",
        "    y_min = 0.0; y_max = 1.0\n",
        "\n",
        "    # Plot the decision boundary. For that, we will assign a color to each\n",
        "    # point in the mesh [x_min, m_max]x[y_min, y_max].\n",
        "    h = .01  # step size in the mesh\n",
        "    xx, yy = np.meshgrid(np.arange(x_min, x_max, h), np.arange(y_min, y_max, h))\n",
        "    Z = clf.predict(np.c_[xx.ravel(), yy.ravel()])\n",
        "\n",
        "    # Put the result into a color plot\n",
        "    Z = Z.reshape(xx.shape)\n",
        "    plt.xlim(xx.min(), xx.max())\n",
        "    plt.ylim(yy.min(), yy.max())\n",
        "\n",
        "    plt.pcolormesh(xx, yy, Z, cmap=pl.cm.seismic)\n",
        "\n",
        "    # Plot also the test points\n",
        "    grade_sig = [X_test[ii][0] for ii in range(0, len(X_test)) if y_test[ii]==0]\n",
        "    bumpy_sig = [X_test[ii][1] for ii in range(0, len(X_test)) if y_test[ii]==0]\n",
        "    grade_bkg = [X_test[ii][0] for ii in range(0, len(X_test)) if y_test[ii]==1]\n",
        "    bumpy_bkg = [X_test[ii][1] for ii in range(0, len(X_test)) if y_test[ii]==1]\n",
        "\n",
        "    plt.scatter(grade_sig, bumpy_sig, color = \"b\", label=\"fast\")\n",
        "    plt.scatter(grade_bkg, bumpy_bkg, color = \"r\", label=\"slow\")\n",
        "    plt.legend()\n",
        "    plt.xlabel(\"bumpiness\")\n",
        "    plt.ylabel(\"grade\")\n",
        "\n",
        "    plt.savefig(\"test.png\")\n",
        "\n",
        "import base64\n",
        "import json\n",
        "import subprocess\n",
        "\n",
        "def output_image(name, format, bytes):\n",
        "    image_start = \"BEGIN_IMAGE_f9825uweof8jw9fj4r8\"\n",
        "    image_end = \"END_IMAGE_0238jfw08fjsiufhw8frs\"\n",
        "    data = {}\n",
        "    data['name'] = name\n",
        "    data['format'] = format\n",
        "    data['bytes'] = base64.encodestring(bytes)\n",
        "    print (image_start+json.dumps(data)+image_end)"
      ],
      "execution_count": 0,
      "outputs": []
    },
    {
      "cell_type": "code",
      "metadata": {
        "id": "KQSHWxtwNZCo",
        "colab_type": "code",
        "colab": {}
      },
      "source": [
        "#!/usr/bin/python\n",
        "import random\n",
        "\n",
        "\n",
        "def makeTerrainData(n_points=1000):\n",
        "###############################################################################\n",
        "### make the toy dataset\n",
        "    random.seed(42)\n",
        "    grade = [random.random() for ii in range(0,n_points)]\n",
        "    bumpy = [random.random() for ii in range(0,n_points)]\n",
        "    error = [random.random() for ii in range(0,n_points)]\n",
        "    y = [round(grade[ii]*bumpy[ii]+0.3+0.1*error[ii]) for ii in range(0,n_points)]\n",
        "    for ii in range(0, len(y)):\n",
        "        if grade[ii]>0.8 or bumpy[ii]>0.8:\n",
        "            y[ii] = 1.0\n",
        "\n",
        "### split into train/test sets\n",
        "    X = [[gg, ss] for gg, ss in zip(grade, bumpy)]\n",
        "    split = int(0.75*n_points)\n",
        "    X_train = X[0:split]\n",
        "    X_test  = X[split:]\n",
        "    y_train = y[0:split]\n",
        "    y_test  = y[split:]\n",
        "\n",
        "    grade_sig = [X_train[ii][0] for ii in range(0, len(X_train)) if y_train[ii]==0]\n",
        "    bumpy_sig = [X_train[ii][1] for ii in range(0, len(X_train)) if y_train[ii]==0]\n",
        "    grade_bkg = [X_train[ii][0] for ii in range(0, len(X_train)) if y_train[ii]==1]\n",
        "    bumpy_bkg = [X_train[ii][1] for ii in range(0, len(X_train)) if y_train[ii]==1]\n",
        "\n",
        "#    training_data = {\"fast\":{\"grade\":grade_sig, \"bumpiness\":bumpy_sig}\n",
        "#            , \"slow\":{\"grade\":grade_bkg, \"bumpiness\":bumpy_bkg}}\n",
        "\n",
        "\n",
        "    grade_sig = [X_test[ii][0] for ii in range(0, len(X_test)) if y_test[ii]==0]\n",
        "    bumpy_sig = [X_test[ii][1] for ii in range(0, len(X_test)) if y_test[ii]==0]\n",
        "    grade_bkg = [X_test[ii][0] for ii in range(0, len(X_test)) if y_test[ii]==1]\n",
        "    bumpy_bkg = [X_test[ii][1] for ii in range(0, len(X_test)) if y_test[ii]==1]\n",
        "\n",
        "    test_data = {\"fast\":{\"grade\":grade_sig, \"bumpiness\":bumpy_sig}\n",
        "            , \"slow\":{\"grade\":grade_bkg, \"bumpiness\":bumpy_bkg}}\n",
        "\n",
        "    return X_train, y_train, X_test, y_test\n",
        "#    return training_data, test_data"
      ],
      "execution_count": 0,
      "outputs": []
    },
    {
      "cell_type": "code",
      "metadata": {
        "id": "M34wYAD9NqZU",
        "colab_type": "code",
        "colab": {}
      },
      "source": [
        "features_train, labels_train, features_test, labels_test = makeTerrainData()"
      ],
      "execution_count": 0,
      "outputs": []
    },
    {
      "cell_type": "code",
      "metadata": {
        "id": "4nMzHbR5N1QI",
        "colab_type": "code",
        "outputId": "63bc009e-1b74-447f-b920-4fb40372ae78",
        "colab": {
          "base_uri": "https://localhost:8080/",
          "height": 34
        }
      },
      "source": [
        "clf = SVC(kernel=\"linear\")\n",
        "\n",
        "\n",
        "#### now your job is to fit the classifier\n",
        "#### using the training features/labels, and to\n",
        "#### make a set of predictions on the test data\n",
        "\n",
        "clf.fit(features_train, labels_train)\n",
        "\n",
        "pred = clf.predict(features_test)\n",
        "\n",
        "#print(clf.predict([[-0.8, -1]]))\n",
        "\n",
        "#### store your predictions in a list named pred\n",
        "\n",
        "\n",
        "\n",
        "\n",
        "\n",
        "from sklearn.metrics import accuracy_score\n",
        "acc = accuracy_score(pred, labels_test)\n",
        "\n",
        "print(acc)\n",
        "\n",
        "def submitAccuracy():\n",
        "    return acc"
      ],
      "execution_count": 0,
      "outputs": [
        {
          "output_type": "stream",
          "text": [
            "0.92\n"
          ],
          "name": "stdout"
        }
      ]
    },
    {
      "cell_type": "code",
      "metadata": {
        "id": "sZ_IxdVrN3zX",
        "colab_type": "code",
        "outputId": "f0381c15-9a12-4239-da8f-684971c8b25c",
        "colab": {
          "base_uri": "https://localhost:8080/",
          "height": 283
        }
      },
      "source": [
        "%matplotlib inline\n",
        "prettyPicture(clf, features_test, labels_test)"
      ],
      "execution_count": 0,
      "outputs": [
        {
          "output_type": "display_data",
          "data": {
            "image/png": "[encoded data removed]",
            "text/plain": [
              "<Figure size 432x288 with 1 Axes>"
            ]
          },
          "metadata": {
            "tags": []
          }
        }
      ]
    },
    {
      "cell_type": "code",
      "metadata": {
        "id": "LHE0c90qOA-Y",
        "colab_type": "code",
        "outputId": "3fe5092c-e091-4d58-cfd7-065e236f5b1a",
        "colab": {
          "base_uri": "https://localhost:8080/",
          "height": 354
        }
      },
      "source": [
        "clf = SVC(kernel=\"rbf\", C=12**5)\n",
        "clf.fit(features_train, labels_train)\n",
        "pred = clf.predict(features_test)\n",
        "print(accuracy_score(pred, labels_test))\n",
        "\n",
        "%matplotlib inline\n",
        "prettyPicture(clf, features_test, labels_test)"
      ],
      "execution_count": 0,
      "outputs": [
        {
          "output_type": "stream",
          "text": [
            "/usr/local/lib/python3.6/dist-packages/sklearn/svm/base.py:193: FutureWarning: The default value of gamma will change from 'auto' to 'scale' in version 0.22 to account better for unscaled features. Set gamma explicitly to 'auto' or 'scale' to avoid this warning.\n",
            "  \"avoid this warning.\", FutureWarning)\n"
          ],
          "name": "stderr"
        },
        {
          "output_type": "stream",
          "text": [
            "0.948\n"
          ],
          "name": "stdout"
        },
        {
          "output_type": "display_data",
          "data": {
            "image/png": "[encoded data removed]",
            "text/plain": [
              "<Figure size 432x288 with 1 Axes>"
            ]
          },
          "metadata": {
            "tags": []
          }
        }
      ]
    },
    {
      "cell_type": "code",
      "metadata": {
        "id": "CaQWMvgtJX6j",
        "colab_type": "code",
        "colab": {
          "base_uri": "https://localhost:8080/",
          "height": 638
        },
        "outputId": "d67084ba-9f97-47c6-b50f-c6cbb817fd81"
      },
      "source": [
        "import numpy as np\n",
        "import matplotlib.pyplot as plt\n",
        "from sklearn import svm, datasets\n",
        "\n",
        "\n",
        "def make_meshgrid(x, y, h=.02):\n",
        "    \"\"\"Create a mesh of points to plot in\n",
        "\n",
        "    Parameters\n",
        "    ----------\n",
        "    x: data to base x-axis meshgrid on\n",
        "    y: data to base y-axis meshgrid on\n",
        "    h: stepsize for meshgrid, optional\n",
        "\n",
        "    Returns\n",
        "    -------\n",
        "    xx, yy : ndarray\n",
        "    \"\"\"\n",
        "    x_min, x_max = x.min() - 1, x.max() + 1\n",
        "    y_min, y_max = y.min() - 1, y.max() + 1\n",
        "    xx, yy = np.meshgrid(np.arange(x_min, x_max, h),\n",
        "                         np.arange(y_min, y_max, h))\n",
        "    return xx, yy\n",
        "\n",
        "\n",
        "def plot_contours(ax, clf, xx, yy, **params):\n",
        "    \"\"\"Plot the decision boundaries for a classifier.\n",
        "\n",
        "    Parameters\n",
        "    ----------\n",
        "    ax: matplotlib axes object\n",
        "    clf: a classifier\n",
        "    xx: meshgrid ndarray\n",
        "    yy: meshgrid ndarray\n",
        "    params: dictionary of params to pass to contourf, optional\n",
        "    \"\"\"\n",
        "    Z = clf.predict(np.c_[xx.ravel(), yy.ravel()])\n",
        "    Z = Z.reshape(xx.shape)\n",
        "    out = ax.contourf(xx, yy, Z, **params)\n",
        "    return out\n",
        "\n",
        "def created_plot(model):\n",
        "  print(\"created_plot\")\n",
        "  \n",
        "\n",
        "# import some data to play with\n",
        "iris = datasets.load_iris()\n",
        "# Take the first two features. We could avoid this by using a two-dim dataset\n",
        "X = iris.data[:, :2]\n",
        "y = iris.target\n",
        "\n",
        "# we create an instance of SVM and fit out data. We do not scale our\n",
        "# data since we want to plot the support vectors\n",
        "C = 1.0  # SVM regularization parameter\n",
        "#models = (svm.SVC(kernel='linear', C=C),svm.LinearSVC(C=C),svm.SVC(kernel='rbf', gamma=0.7, C=C),svm.SVC(kernel='poly', degree=3, C=C))\n",
        "models = (clf.fit(X, y) for clf in models)\n",
        "\n",
        "# title for the plots\n",
        "titles = ('SVC with linear kernel',\n",
        "          'LinearSVC (linear kernel)',\n",
        "          'SVC with RBF kernel',\n",
        "          'SVC with polynomial (degree 3) kernel')\n",
        "\n",
        "# Set-up 2x2 grid for plotting.\n",
        "fig, sub = plt.subplots(2, 2)\n",
        "plt.subplots_adjust(wspace=0.4, hspace=0.4)\n",
        "\n",
        "X0, X1 = X[:, 0], X[:, 1]\n",
        "xx, yy = make_meshgrid(X0, X1)\n",
        "\n",
        "for clf, title, ax in zip(models, titles, sub.flatten()):\n",
        "      print(clf,title,ax)\n",
        "      plot_contours(ax, clf, xx, yy,\n",
        "                    cmap=plt.cm.PiYG, alpha=0.8)\n",
        "      ax.scatter(X0, X1, c=y, cmap=plt.cm.PiYG, s=20, edgecolors='k')\n",
        "      ax.set_xlim(xx.min(), xx.max())\n",
        "      ax.set_ylim(yy.min(), yy.max())\n",
        "      ax.set_xlabel('Sepal length')\n",
        "      ax.set_ylabel('Sepal width')\n",
        "      ax.set_xticks(())\n",
        "      ax.set_yticks(())\n",
        "      ax.set_title(title)\n",
        "      \n",
        "plt.show()"
      ],
      "execution_count": 11,
      "outputs": [
        {
          "output_type": "stream",
          "text": [
            "SVC(C=1.0, cache_size=200, class_weight=None, coef0=0.0,\n",
            "    decision_function_shape='ovr', degree=3, gamma='auto_deprecated',\n",
            "    kernel='linear', max_iter=-1, probability=False, random_state=None,\n",
            "    shrinking=True, tol=0.001, verbose=False) SVC with linear kernel AxesSubplot(0.125,0.565417;0.322917x0.314583)\n",
            "LinearSVC(C=1.0, class_weight=None, dual=True, fit_intercept=True,\n",
            "          intercept_scaling=1, loss='squared_hinge', max_iter=1000,\n",
            "          multi_class='ovr', penalty='l2', random_state=None, tol=0.0001,\n",
            "          verbose=0) LinearSVC (linear kernel) AxesSubplot(0.577083,0.565417;0.322917x0.314583)\n",
            "SVC(C=1.0, cache_size=200, class_weight=None, coef0=0.0,\n",
            "    decision_function_shape='ovr', degree=3, gamma=0.7, kernel='rbf',\n",
            "    max_iter=-1, probability=False, random_state=None, shrinking=True,\n",
            "    tol=0.001, verbose=False) SVC with RBF kernel AxesSubplot(0.125,0.125;0.322917x0.314583)\n"
          ],
          "name": "stdout"
        },
        {
          "output_type": "stream",
          "text": [
            "/usr/local/lib/python3.6/dist-packages/sklearn/svm/base.py:929: ConvergenceWarning: Liblinear failed to converge, increase the number of iterations.\n",
            "  \"the number of iterations.\", ConvergenceWarning)\n",
            "/usr/local/lib/python3.6/dist-packages/sklearn/svm/base.py:193: FutureWarning: The default value of gamma will change from 'auto' to 'scale' in version 0.22 to account better for unscaled features. Set gamma explicitly to 'auto' or 'scale' to avoid this warning.\n",
            "  \"avoid this warning.\", FutureWarning)\n"
          ],
          "name": "stderr"
        },
        {
          "output_type": "stream",
          "text": [
            "SVC(C=1.0, cache_size=200, class_weight=None, coef0=0.0,\n",
            "    decision_function_shape='ovr', degree=3, gamma='auto_deprecated',\n",
            "    kernel='poly', max_iter=-1, probability=False, random_state=None,\n",
            "    shrinking=True, tol=0.001, verbose=False) SVC with polynomial (degree 3) kernel AxesSubplot(0.577083,0.125;0.322917x0.314583)\n"
          ],
          "name": "stdout"
        },
        {
          "output_type": "display_data",
          "data": {
            "image/png": "[encoded data removed]",
            "text/plain": [
              "<Figure size 432x288 with 4 Axes>"
            ]
          },
          "metadata": {
            "tags": []
          }
        }
      ]
    }
  ]
}