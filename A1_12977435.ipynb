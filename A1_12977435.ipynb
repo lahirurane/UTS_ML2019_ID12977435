{
  "nbformat": 4,
  "nbformat_minor": 0,
  "metadata": {
    "kernelspec": {
      "display_name": "Python 3",
      "language": "python",
      "name": "python3"
    },
    "language_info": {
      "codemirror_mode": {
        "name": "ipython",
        "version": 3
      },
      "file_extension": ".py",
      "mimetype": "text/x-python",
      "name": "python",
      "nbconvert_exporter": "python",
      "pygments_lexer": "ipython3",
      "version": "3.5.4"
    },
    "toc": {
      "base_numbering": 1,
      "nav_menu": {},
      "number_sections": true,
      "sideBar": true,
      "skip_h1_title": false,
      "title_cell": "Table of Contents",
      "title_sidebar": "Contents",
      "toc_cell": false,
      "toc_position": {},
      "toc_section_display": true,
      "toc_window_display": false
    },
    "colab": {
      "name": "A1_ReportDraft.ipynb",
      "version": "0.3.2",
      "provenance": []
    }
  },
  "cells": [
    {
      "cell_type": "markdown",
      "metadata": {
        "id": "AI3anHHuaQcG",
        "colab_type": "text"
      },
      "source": [
        "# Assignment 1 : 32513 Machine Learning"
      ]
    },
    {
      "cell_type": "markdown",
      "metadata": {
        "id": "lyyyFJJzUXK0",
        "colab_type": "text"
      },
      "source": [
        "Student No : 12977435"
      ]
    },
    {
      "cell_type": "markdown",
      "metadata": {
        "id": "5OGyNCBfaQcJ",
        "colab_type": "text"
      },
      "source": [
        "# Review Report on Support-Vector Networks"
      ]
    },
    {
      "cell_type": "markdown",
      "metadata": {
        "id": "57K33fp6aQcJ",
        "colab_type": "text"
      },
      "source": [
        "## Introduction"
      ]
    },
    {
      "cell_type": "markdown",
      "metadata": {
        "id": "OKTG6RBFaQcK",
        "colab_type": "text"
      },
      "source": [
        "## Content"
      ]
    },
    {
      "cell_type": "markdown",
      "metadata": {
        "id": "SlTvusPkaQcL",
        "colab_type": "text"
      },
      "source": [
        " \n",
        "In this paper, the author introduces a new machine learning algorithm called support vector network. In Support Vector Network, it handles the non-linear input vectors into high dimensional feature space and using unique properties, a linear surface is constructed in order to generalise the data to make decisions. Support-vector network is designed for two-group classification problems. The previous implementation of support vector network was implemented with a limitation where only with linearly separable data can be used. In this article, the author provides a solution to use support vector networks with non-linear data and convert the data where high generalisation abilities are delivered. Therefore, making high accuracy predictions for classification problems.\n",
        "\n",
        "The author first describes the existing approaches for pattern recognition such as neural networks and back-propagation algorithm for neural networks and that support vector networks in as powerful as neural networks. Next, the author describes the two issues that are faced. These two main issues are considered as one conceptual issue and the other as a technical issue. The conceptual issue is in identifying the correct hyperplane to generalised the data set. The author identifies the appropriate solutions in getting the margin for two classes calculating the maximal margin between the two classes. The technical issue is regarding the computational power for a higher number of dimensional spaces. A comparison between two vector space before making a non-linear conversion has been identified as a solution for the issue rather than creating the non-linear conversion at the beginning. Moreover, the author suggests allowing errors in the training set in order to allow optimal separation.\n",
        "\n",
        "As for the evaluation of the suggested method, the author has used two sets of datasets, one is a small dataset with 7000 datasets and a larger dataset with 60,000 datasets. Then the dataset was compared with human performance, decision trees, and neural networks.\n",
        " \n"
      ]
    },
    {
      "cell_type": "markdown",
      "metadata": {
        "id": "5kuW-p6FaQcL",
        "colab_type": "text"
      },
      "source": [
        "## Innovation"
      ]
    },
    {
      "cell_type": "markdown",
      "metadata": {
        "id": "MxsH1iRWaQcM",
        "colab_type": "text"
      },
      "source": [
        "The background at the time of the work is that people understood the problem as .... The creative idea is ..."
      ]
    },
    {
      "cell_type": "markdown",
      "metadata": {
        "id": "LJ7Jx5OlaQcM",
        "colab_type": "text"
      },
      "source": [
        "## Technical quality"
      ]
    },
    {
      "cell_type": "markdown",
      "metadata": {
        "id": "_3pwBXiUaQcN",
        "colab_type": "text"
      },
      "source": [
        "The technical development if of high/low quality. The authors supported their theory using ..."
      ]
    },
    {
      "cell_type": "markdown",
      "metadata": {
        "id": "trWhhVm9aQcN",
        "colab_type": "text"
      },
      "source": [
        "## Application and X-factor"
      ]
    },
    {
      "cell_type": "markdown",
      "metadata": {
        "id": "NKg4-AKlaQcO",
        "colab_type": "text"
      },
      "source": [
        "I find the proposal in the paper promising. ..."
      ]
    },
    {
      "cell_type": "markdown",
      "metadata": {
        "id": "ZyU3a2FOaQcP",
        "colab_type": "text"
      },
      "source": [
        "## Presentation"
      ]
    },
    {
      "cell_type": "markdown",
      "metadata": {
        "id": "ujlZAMkPaQcP",
        "colab_type": "text"
      },
      "source": [
        "The overall strucutre is clear. I found reading is easy / difficult. The paper could have been more attractive if the authors had organised ... / provided ... "
      ]
    },
    {
      "cell_type": "markdown",
      "metadata": {
        "id": "QTlTi8yGaQcQ",
        "colab_type": "text"
      },
      "source": [
        "## References\n",
        "\n",
        "[SHA48][1]: Author, Title, Info\n",
        "\n",
        "[1]:https://google.com"
      ]
    },
    {
      "cell_type": "markdown",
      "metadata": {
        "id": "Skm27dwgbAzw",
        "colab_type": "text"
      },
      "source": [
        "Github URL : [Here](https://github.com/lahirurane/UTS_ML2019_ID12977435/blob/master/A1_12977435.ipynb)"
      ]
    }
  ]
}