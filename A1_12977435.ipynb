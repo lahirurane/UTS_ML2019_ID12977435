{
  "nbformat": 4,
  "nbformat_minor": 0,
  "metadata": {
    "kernelspec": {
      "display_name": "Python 3",
      "language": "python",
      "name": "python3"
    },
    "language_info": {
      "codemirror_mode": {
        "name": "ipython",
        "version": 3
      },
      "file_extension": ".py",
      "mimetype": "text/x-python",
      "name": "python",
      "nbconvert_exporter": "python",
      "pygments_lexer": "ipython3",
      "version": "3.5.4"
    },
    "toc": {
      "base_numbering": 1,
      "nav_menu": {},
      "number_sections": true,
      "sideBar": true,
      "skip_h1_title": false,
      "title_cell": "Table of Contents",
      "title_sidebar": "Contents",
      "toc_cell": false,
      "toc_position": {},
      "toc_section_display": true,
      "toc_window_display": false
    },
    "colab": {
      "name": "A1_ReportDraft.ipynb",
      "version": "0.3.2",
      "provenance": []
    }
  },
  "cells": [
    {
      "cell_type": "markdown",
      "metadata": {
        "id": "AI3anHHuaQcG",
        "colab_type": "text"
      },
      "source": [
        "# Assignment 1 : 32513 Machine Learning"
      ]
    },
    {
      "cell_type": "markdown",
      "metadata": {
        "id": "lyyyFJJzUXK0",
        "colab_type": "text"
      },
      "source": [
        "Student No : 12977435"
      ]
    },
    {
      "cell_type": "markdown",
      "metadata": {
        "id": "5OGyNCBfaQcJ",
        "colab_type": "text"
      },
      "source": [
        "# Review Report on Support-Vector Networks"
      ]
    },
    {
      "cell_type": "markdown",
      "metadata": {
        "id": "57K33fp6aQcJ",
        "colab_type": "text"
      },
      "source": [
        "## Introduction"
      ]
    },
    {
      "cell_type": "markdown",
      "metadata": {
        "id": "OC-4Y2M0EcVx",
        "colab_type": "text"
      },
      "source": [
        "This report is a review on the paper titled \"Support-Vector Networks\" which is written by Corinna Cortes and Vladimir Vapnik published in 1995. First, the content of the article is discussed, followed by a critique on innovation, technical quality, Application x-factor and the presentation."
      ]
    },
    {
      "cell_type": "markdown",
      "metadata": {
        "id": "OKTG6RBFaQcK",
        "colab_type": "text"
      },
      "source": [
        "## Content"
      ]
    },
    {
      "cell_type": "markdown",
      "metadata": {
        "id": "SlTvusPkaQcL",
        "colab_type": "text"
      },
      "source": [
        "In this paper, the author introduces a new machine learning algorithm called support vector network. In Support Vector Network, it handles the non-linear input vectors into high dimensional feature space by using unique properties. A linear surface is constructed to generalise the data to make decisions. Support-vector network designed for two-group classification problems. The previous implementation of support vector network implemented with a limitation where only with linearly separable data can be used. In this article, the author provides a solution to use support vector networks with non-linear data and convert the data where high generalisation abilities are delivered. Therefore, making high accuracy predictions for classification problems.\n",
        "The author first describes the existing approaches for pattern recognition such as neural networks and backpropagation algorithm for neural networks and that support vector networks in as powerful as neural networks. Next, the author describes the two issues that are faced — these two main issues considered as one conceptual issue and the other as a technical issue. The conceptual issue is in identifying the correct hyperplane to generalised the data set. The author identifies the appropriate solutions in getting the optimal hyperplane for two classes calculating the maximal margin between the two them. The technical issue is regarding the computational power for a higher number of dimensional spaces. A comparison between two vector space, before making a non-linear conversion has been identified as a solution for the issue more than creating the non-linear transformation at the beginning. Moreover, the author suggests allowing errors in the training set to allow optimal separation.\n",
        "As for the evaluation of the suggested method, the author has used two sets of datasets. One is a small dataset with 7000 datasets and a larger dataset with 60,000 datasets. Then the dataset was compared with human performance, decision trees, and neural networks."
      ]
    },
    {
      "cell_type": "markdown",
      "metadata": {
        "id": "5kuW-p6FaQcL",
        "colab_type": "text"
      },
      "source": [
        "## Innovation"
      ]
    },
    {
      "cell_type": "markdown",
      "metadata": {
        "id": "MxsH1iRWaQcM",
        "colab_type": "text"
      },
      "source": [
        "The article was written in 1996, which can consider the era of the beginning of machine learning. Although, the author describes previous mathematical models and functions that are introduced, such as pattern recognition and neural networks. The author mentions that a support vector network method was implemented previously but with a limitation. That is, the support vector network can only use by the linearly separable data set. Therefore, the author introduces the new methodology where the model can use non-linear data set. The input data is mapped to a high dimensional space with the non-linear data and then converted to a linear surface to make the decisions. In achieving this, the author suggests using the dot product formula.\n",
        "Moreover, the author integrates a formula to calculate the maximal margin between two classes. In calculating the margin, the author suggests to train the dataset chunk by chunk and select the dataset that can be separated. As a result, the error data is tolerated by the model. Finally, the author suggests an algorithm to soften the margin making the number of errors to a minimum. With these introductions, it can be considered that this research work introduced a unique method for pattern recognition integrating with algorithms that have been proposed as well.\n",
        "Furthermore, the author suggests that there can be various functions added according to the dataset to soften the margin. The author provides a Radial basis function implementation as an example as well. The author compares the results with two decision trees and with two neural networks. Overall, the research paper can be considered as a novel approach."
      ]
    },
    {
      "cell_type": "markdown",
      "metadata": {
        "id": "LJ7Jx5OlaQcM",
        "colab_type": "text"
      },
      "source": [
        "## Technical quality"
      ]
    },
    {
      "cell_type": "markdown",
      "metadata": {
        "id": "_3pwBXiUaQcN",
        "colab_type": "text"
      },
      "source": [
        "The article has been written clearly and can be understood easily. However, for a person with a percentage of lower domain knowledge, the report is quite complex to understand as it contains technical terms and formulas. However, with the very well description of the mathematical methods, the article is communicated well to the reader. The author has justified the usage of the formula with step by step guide and explanation regarding the constraints. Therefore, researches with excellent domain knowledge can efficiently replicate the suggested approach.\n",
        "Moreover, the author has given an example for the margin soften using Radial basis and provides assistance for the future researches for newer methods. Hence, the technical aspect of the literature can be considered as high. In terms of testing the proposed algorithm, the author has used two different data sets. One with a medium-size data set and a large-size data set. These datasets used in various models such as neural networks with two layers, special architecture 5-layer network, decision tree with CART, decision tree with c4.5 and human performance. According to the era of this research paper, it can consider that the author has compared the accuracy with classifiers that are available at that time. Even though the author has mentioned about the backpropagation neural networks, the model has not analysed with the suggested model. That can consider as a drawback of this research paper. In overall, the article has high standards, technically comprehensive paper. The citation count (35303) provides a proof as well."
      ]
    },
    {
      "cell_type": "markdown",
      "metadata": {
        "id": "trWhhVm9aQcN",
        "colab_type": "text"
      },
      "source": [
        "## Application and X-factor"
      ]
    },
    {
      "cell_type": "markdown",
      "metadata": {
        "id": "NKg4-AKlaQcO",
        "colab_type": "text"
      },
      "source": [
        "TODO: Application domain? What are the further improvements What's missing\n",
        "I've found this paper interesting in many aspects. In terms of the structure in the article, it is written well with a flow and advanced.\n",
        "Moreover, the academic style of writing and description of formulas are well arranged. Therefore, the information communicated to the reader efficiently. Another aspect would be the analysis and evaluation of the model. The author has used several pattern recognition techniques to compare rather than comparing with one model. Moreover, the author evaluates the model with two datasets as well. This shows the proper way of evaluating a model. Another aspect of the paper is the technical discovery of support vector networks — the innovation of the model revolutionised machine learning. Support vector machine (SVM) model is used vastly in machine learning up to date. Therefore, I consider this research paper has significant importance."
      ]
    },
    {
      "cell_type": "markdown",
      "metadata": {
        "id": "ZyU3a2FOaQcP",
        "colab_type": "text"
      },
      "source": [
        "## Presentation"
      ]
    },
    {
      "cell_type": "markdown",
      "metadata": {
        "id": "ujlZAMkPaQcP",
        "colab_type": "text"
      },
      "source": [
        "The overall structure of the paper can consider as high standard with a clear introduction for the problem and the suggested method. The article has sections in sequential order starting from the introduction followed by the problem and the solution. Additionally, the solutions have separated into each sub-section. Also, the formulas and figures labelled with proper formatting. However, the method could structure better for visual appearance. Moreover, the paper includes figures to provide more clarity to the reader with a thorough description. Such as the feed-forward perceptron, a 2-dimensional graph, classification structure and example graph of dot product result. Also, the author has provided well-defined results to the reader on the experimental data and the detailed conclusion."
      ]
    },
    {
      "cell_type": "markdown",
      "metadata": {
        "id": "QTlTi8yGaQcQ",
        "colab_type": "text"
      },
      "source": [
        "## References\n",
        " \n",
        "\n",
        "*   Cortes, C. & Vapnik, V. 1995, 'Support vector networks'. Machine Learning, vol. 20, pp. 273–297.\n",
        "\n",
        "\n",
        "\n",
        "[1]:https://link.springer.com/article/10.1007/BF00994018"
      ]
    },
    {
      "cell_type": "markdown",
      "metadata": {
        "id": "_UgTCU6fHgNS",
        "colab_type": "text"
      },
      "source": [
        "###Link"
      ]
    },
    {
      "cell_type": "markdown",
      "metadata": {
        "id": "Skm27dwgbAzw",
        "colab_type": "text"
      },
      "source": [
        "Github URL : [here][1] : https://github.com/lahirurane/UTS_ML2019_ID12977435/blob/master/A1_12977435.ipynb\n",
        "\n",
        "[1]:https://github.com/lahirurane/UTS_ML2019_ID12977435/blob/master/A1_12977435.ipynb"
      ]
    },
    {
      "cell_type": "markdown",
      "metadata": {
        "id": "g-RWfnmVMjMd",
        "colab_type": "text"
      },
      "source": [
        "---"
      ]
    },
    {
      "cell_type": "markdown",
      "metadata": {
        "id": "AMT5wnNUM6kV",
        "colab_type": "text"
      },
      "source": [
        "##Experiment Area"
      ]
    },
    {
      "cell_type": "code",
      "metadata": {
        "colab_type": "code",
        "outputId": "90fe95b9-3973-4d45-b123-d84e1f27eefe",
        "id": "xgiS9sbb82XK",
        "colab": {
          "base_uri": "https://localhost:8080/",
          "height": 854
        }
      },
      "source": [
        "import numpy as np\n",
        "import matplotlib.pyplot as plt\n",
        "from sklearn import svm, datasets\n",
        "\n",
        "\n",
        "def make_meshgrid(x, y, h=.02):\n",
        "    \"\"\"Create a mesh of points to plot in\n",
        "\n",
        "    Parameters\n",
        "    ----------\n",
        "    x: data to base x-axis meshgrid on\n",
        "    y: data to base y-axis meshgrid on\n",
        "    h: stepsize for meshgrid, optional\n",
        "\n",
        "    Returns\n",
        "    -------\n",
        "    xx, yy : ndarray\n",
        "    \"\"\"\n",
        "    x_min, x_max = x.min() - 1, x.max() + 1\n",
        "    y_min, y_max = y.min() - 1, y.max() + 1\n",
        "    xx, yy = np.meshgrid(np.arange(x_min, x_max, h),\n",
        "                         np.arange(y_min, y_max, h))\n",
        "    return xx, yy\n",
        "\n",
        "\n",
        "def plot_contours(ax, clf, xx, yy, **params):\n",
        "    \"\"\"Plot the decision boundaries for a classifier.\n",
        "\n",
        "    Parameters\n",
        "    ----------\n",
        "    ax: matplotlib axes object\n",
        "    clf: a classifier\n",
        "    xx: meshgrid ndarray\n",
        "    yy: meshgrid ndarray\n",
        "    params: dictionary of params to pass to contourf, optional\n",
        "    \"\"\"\n",
        "    \n",
        "    Z = clf.predict(np.c_[xx.ravel(), yy.ravel()])\n",
        "    \n",
        "    Z = Z.reshape(xx.shape)\n",
        "    \n",
        "    out = ax.contourf(xx, yy, Z, **params)\n",
        "    \n",
        "    return out\n",
        "\n",
        "def created_plot(model,title,train_data):\n",
        "    fig, sub = plt.subplots()\n",
        "    plt.subplots_adjust(wspace=0.4, hspace=0.4)\n",
        "\n",
        "    X0, X1 = X[:, 0], X[:, 1]\n",
        "    xx, yy = make_meshgrid(X0, X1)\n",
        "    \n",
        "\n",
        "\n",
        "    plot_contours(sub, model, xx, yy, cmap=plt.cm.winter, alpha=0.8)\n",
        "    sub.scatter(X0, X1, c=y, cmap=plt.cm.winter, s=20, edgecolors='k')\n",
        "    sub.set_xlim(xx.min(), xx.max())\n",
        "    sub.set_ylim(yy.min(), yy.max())\n",
        "    sub.set_xlabel('Sepal length')\n",
        "    sub.set_ylabel('Sepal width')\n",
        "    sub.xaxis.label.set_color('white')\n",
        "    sub.yaxis.label.set_color('white')\n",
        "    sub.set_xticks(())\n",
        "    sub.set_yticks(())\n",
        "    sub.set_title(title,color=\"#ffffff\")\n",
        "\n",
        "    plt.show()\n",
        "  \n",
        "\n",
        "# import some data to play with\n",
        "iris = datasets.load_iris()\n",
        "\n",
        "X = np.array([x_ for x_, y_ in zip(iris.data, iris.target)\n",
        "                  if y_ == 0 or y_ == 2])\n",
        "y = np.array([y_ for x_, y_ in zip(iris.data, iris.target)\n",
        "                  if y_ == 0 or y_ == 2]) \n",
        "\n",
        "X = X[:, :2]\n",
        "\n",
        "\n",
        "# we create an instance of SVM and fit out data. We do not scale our\n",
        "# data since we want to plot the support vectors\n",
        "C = 1.0  # SVM regularization parameter\n",
        "\n",
        "model = svm.SVC(kernel='linear', C=C)\n",
        "model = model.fit(X, y) \n",
        "title = 'Using linear kernel'\n",
        "created_plot(model,title,X)\n",
        "\n",
        "\n",
        "model2 = svm.SVC(kernel='rbf', gamma=0.7, C=4**2)\n",
        "model2 = model2.fit(X, y) \n",
        "title2 = 'Using RBF kernel'\n",
        "created_plot(model2,title2,X)\n",
        "\n",
        "\n",
        "model3 = svm.SVC(kernel='poly', degree=3, C=C)\n",
        "model3 = model3.fit(X, y) \n",
        "title3 = 'Using poly kernel'\n",
        "created_plot(model3,title3,X)\n",
        "\n",
        "# Set-up 2x2 grid for plotting.\n",
        "\n"
      ],
      "execution_count": 84,
      "outputs": [
        {
          "output_type": "display_data",
          "data": {
            "image/png": "[encoded data removed]",
            "text/plain": [
              "<Figure size 432x288 with 1 Axes>"
            ]
          },
          "metadata": {
            "tags": []
          }
        },
        {
          "output_type": "display_data",
          "data": {
            "image/png": "[encoded data removed]",
            "text/plain": [
              "<Figure size 432x288 with 1 Axes>"
            ]
          },
          "metadata": {
            "tags": []
          }
        },
        {
          "output_type": "stream",
          "text": [
            "/usr/local/lib/python3.6/dist-packages/sklearn/svm/base.py:193: FutureWarning: The default value of gamma will change from 'auto' to 'scale' in version 0.22 to account better for unscaled features. Set gamma explicitly to 'auto' or 'scale' to avoid this warning.\n",
            "  \"avoid this warning.\", FutureWarning)\n"
          ],
          "name": "stderr"
        },
        {
          "output_type": "display_data",
          "data": {
            "image/png": "[encoded data removed]",
            "text/plain": [
              "<Figure size 432x288 with 1 Axes>"
            ]
          },
          "metadata": {
            "tags": []
          }
        }
      ]
    }
  ]
}